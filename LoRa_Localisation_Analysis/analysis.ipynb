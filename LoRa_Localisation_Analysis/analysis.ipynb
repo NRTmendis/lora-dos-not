{
 "cells": [
  {
   "cell_type": "code",
   "execution_count": 2,
   "metadata": {},
   "outputs": [
    {
     "name": "stderr",
     "output_type": "stream",
     "text": [
      "/Users/Ayush/condaenv/anaconda/lib/python3.6/site-packages/h5py/__init__.py:36: FutureWarning: Conversion of the second argument of issubdtype from `float` to `np.floating` is deprecated. In future, it will be treated as `np.float64 == np.dtype(float).type`.\n",
      "  from ._conv import register_converters as _register_converters\n"
     ]
    }
   ],
   "source": [
    "import pandas as pd\n",
    "import numpy as np\n",
    "# np.set_printoptions(threshold=np.nan)\n",
    "import json\n",
    "import tensorflow as tf\n",
    "from tensorflow.python.keras.models import Sequential\n",
    "from tensorflow.python.keras.layers import Dense\n",
    "from tensorflow.python.keras.preprocessing.text import one_hot\n",
    "from sklearn.preprocessing import LabelEncoder"
   ]
  },
  {
   "cell_type": "code",
   "execution_count": 3,
   "metadata": {},
   "outputs": [],
   "source": [
    "data = pd.read_csv('lora_GTW.csv', index_col=0)\n",
    "# data.columns = pd.MultiIndex.from_tuples(data.columns.str.split(\"|\").tolist())"
   ]
  },
  {
   "cell_type": "code",
   "execution_count": 4,
   "metadata": {
    "scrolled": true
   },
   "outputs": [
    {
     "data": {
      "text/html": [
       "<div>\n",
       "<style scoped>\n",
       "    .dataframe tbody tr th:only-of-type {\n",
       "        vertical-align: middle;\n",
       "    }\n",
       "\n",
       "    .dataframe tbody tr th {\n",
       "        vertical-align: top;\n",
       "    }\n",
       "\n",
       "    .dataframe thead th {\n",
       "        text-align: right;\n",
       "    }\n",
       "</style>\n",
       "<table border=\"1\" class=\"dataframe\">\n",
       "  <thead>\n",
       "    <tr style=\"text-align: right;\">\n",
       "      <th></th>\n",
       "      <th>gateway_id</th>\n",
       "      <th>pkt_date_and_time</th>\n",
       "      <th>pkt_rssi</th>\n",
       "      <th>pkt_snr</th>\n",
       "      <th>pkt_data</th>\n",
       "      <th>pkt_size</th>\n",
       "      <th>pkt_longitude</th>\n",
       "      <th>pkt_latitude</th>\n",
       "    </tr>\n",
       "    <tr>\n",
       "      <th>id</th>\n",
       "      <th></th>\n",
       "      <th></th>\n",
       "      <th></th>\n",
       "      <th></th>\n",
       "      <th></th>\n",
       "      <th></th>\n",
       "      <th></th>\n",
       "      <th></th>\n",
       "    </tr>\n",
       "  </thead>\n",
       "  <tbody>\n",
       "    <tr>\n",
       "      <th>1</th>\n",
       "      <td>240AC4F01E023E3C</td>\n",
       "      <td>2018-02-06T15:14:31.677078Z</td>\n",
       "      <td>-51</td>\n",
       "      <td>6</td>\n",
       "      <td>{\"time\": \"2018-02-06T15:14:31.536828Z\", \"gtiD\"...</td>\n",
       "      <td>67</td>\n",
       "      <td>4.58</td>\n",
       "      <td>0.55</td>\n",
       "    </tr>\n",
       "    <tr>\n",
       "      <th>2</th>\n",
       "      <td>240AC4F01E0286DC</td>\n",
       "      <td>2018-02-06T15:14:31.673436Z</td>\n",
       "      <td>-44</td>\n",
       "      <td>7</td>\n",
       "      <td>{\"time\": \"2018-02-06T15:14:31.536828Z\", \"gtiD\"...</td>\n",
       "      <td>67</td>\n",
       "      <td>4.58</td>\n",
       "      <td>0.55</td>\n",
       "    </tr>\n",
       "    <tr>\n",
       "      <th>3</th>\n",
       "      <td>240AC4F01E025FF4</td>\n",
       "      <td>2018-02-06T15:14:34.308128Z</td>\n",
       "      <td>-44</td>\n",
       "      <td>7</td>\n",
       "      <td>{\"time\": \"2018-02-06T15:14:34.171153Z\", \"gtiD\"...</td>\n",
       "      <td>67</td>\n",
       "      <td>1.50</td>\n",
       "      <td>9.05</td>\n",
       "    </tr>\n",
       "    <tr>\n",
       "      <th>4</th>\n",
       "      <td>240AC4F01E023E3C</td>\n",
       "      <td>2018-02-06T15:14:34.311056Z</td>\n",
       "      <td>-45</td>\n",
       "      <td>7</td>\n",
       "      <td>{\"time\": \"2018-02-06T15:14:34.171153Z\", \"gtiD\"...</td>\n",
       "      <td>67</td>\n",
       "      <td>1.50</td>\n",
       "      <td>9.05</td>\n",
       "    </tr>\n",
       "    <tr>\n",
       "      <th>5</th>\n",
       "      <td>240AC4F01E023C54</td>\n",
       "      <td>2018-02-06T15:14:34.312091Z</td>\n",
       "      <td>-40</td>\n",
       "      <td>7</td>\n",
       "      <td>{\"time\": \"2018-02-06T15:14:34.171153Z\", \"gtiD\"...</td>\n",
       "      <td>67</td>\n",
       "      <td>1.50</td>\n",
       "      <td>9.05</td>\n",
       "    </tr>\n",
       "  </tbody>\n",
       "</table>\n",
       "</div>"
      ],
      "text/plain": [
       "          gateway_id            pkt_date_and_time  pkt_rssi  pkt_snr  \\\n",
       "id                                                                     \n",
       "1   240AC4F01E023E3C  2018-02-06T15:14:31.677078Z       -51        6   \n",
       "2   240AC4F01E0286DC  2018-02-06T15:14:31.673436Z       -44        7   \n",
       "3   240AC4F01E025FF4  2018-02-06T15:14:34.308128Z       -44        7   \n",
       "4   240AC4F01E023E3C  2018-02-06T15:14:34.311056Z       -45        7   \n",
       "5   240AC4F01E023C54  2018-02-06T15:14:34.312091Z       -40        7   \n",
       "\n",
       "                                             pkt_data  pkt_size  \\\n",
       "id                                                                \n",
       "1   {\"time\": \"2018-02-06T15:14:31.536828Z\", \"gtiD\"...        67   \n",
       "2   {\"time\": \"2018-02-06T15:14:31.536828Z\", \"gtiD\"...        67   \n",
       "3   {\"time\": \"2018-02-06T15:14:34.171153Z\", \"gtiD\"...        67   \n",
       "4   {\"time\": \"2018-02-06T15:14:34.171153Z\", \"gtiD\"...        67   \n",
       "5   {\"time\": \"2018-02-06T15:14:34.171153Z\", \"gtiD\"...        67   \n",
       "\n",
       "    pkt_longitude  pkt_latitude  \n",
       "id                               \n",
       "1            4.58          0.55  \n",
       "2            4.58          0.55  \n",
       "3            1.50          9.05  \n",
       "4            1.50          9.05  \n",
       "5            1.50          9.05  "
      ]
     },
     "execution_count": 4,
     "metadata": {},
     "output_type": "execute_result"
    }
   ],
   "source": [
    "data.head()"
   ]
  },
  {
   "cell_type": "markdown",
   "metadata": {},
   "source": [
    "### Pre-processing"
   ]
  },
  {
   "cell_type": "markdown",
   "metadata": {},
   "source": [
    "##### Separate pkt_data into two different columns -> pkt_rec_time, pkt_rec_from"
   ]
  },
  {
   "cell_type": "code",
   "execution_count": 5,
   "metadata": {},
   "outputs": [],
   "source": [
    "time = pd.Series()\n",
    "gtiD = pd.Series()\n",
    "\n",
    "for e in data.pkt_data:\n",
    "    entry = json.loads(e)\n",
    "    time = time.append(pd.Series(entry['time']), ignore_index=True)\n",
    "    gtiD = gtiD.append(pd.Series(entry['gtiD']), ignore_index=True)"
   ]
  },
  {
   "cell_type": "code",
   "execution_count": 6,
   "metadata": {
    "scrolled": true
   },
   "outputs": [],
   "source": [
    "data = data.assign(pkt_rec_time=time)\n",
    "data = data.assign(pkt_rec_from=gtiD)\n",
    "data = data.drop(['pkt_data'], axis=1)"
   ]
  },
  {
   "cell_type": "code",
   "execution_count": 7,
   "metadata": {
    "scrolled": false
   },
   "outputs": [
    {
     "data": {
      "text/html": [
       "<div>\n",
       "<style scoped>\n",
       "    .dataframe tbody tr th:only-of-type {\n",
       "        vertical-align: middle;\n",
       "    }\n",
       "\n",
       "    .dataframe tbody tr th {\n",
       "        vertical-align: top;\n",
       "    }\n",
       "\n",
       "    .dataframe thead th {\n",
       "        text-align: right;\n",
       "    }\n",
       "</style>\n",
       "<table border=\"1\" class=\"dataframe\">\n",
       "  <thead>\n",
       "    <tr style=\"text-align: right;\">\n",
       "      <th></th>\n",
       "      <th>gateway_id</th>\n",
       "      <th>pkt_date_and_time</th>\n",
       "      <th>pkt_rssi</th>\n",
       "      <th>pkt_snr</th>\n",
       "      <th>pkt_size</th>\n",
       "      <th>pkt_longitude</th>\n",
       "      <th>pkt_latitude</th>\n",
       "      <th>pkt_rec_time</th>\n",
       "      <th>pkt_rec_from</th>\n",
       "    </tr>\n",
       "    <tr>\n",
       "      <th>id</th>\n",
       "      <th></th>\n",
       "      <th></th>\n",
       "      <th></th>\n",
       "      <th></th>\n",
       "      <th></th>\n",
       "      <th></th>\n",
       "      <th></th>\n",
       "      <th></th>\n",
       "      <th></th>\n",
       "    </tr>\n",
       "  </thead>\n",
       "  <tbody>\n",
       "    <tr>\n",
       "      <th>1</th>\n",
       "      <td>240AC4F01E023E3C</td>\n",
       "      <td>2018-02-06T15:14:31.677078Z</td>\n",
       "      <td>-51</td>\n",
       "      <td>6</td>\n",
       "      <td>67</td>\n",
       "      <td>4.58</td>\n",
       "      <td>0.55</td>\n",
       "      <td>2018-02-06T15:14:31.536828Z</td>\n",
       "      <td>240AC4F01E025FF4</td>\n",
       "    </tr>\n",
       "    <tr>\n",
       "      <th>2</th>\n",
       "      <td>240AC4F01E0286DC</td>\n",
       "      <td>2018-02-06T15:14:31.673436Z</td>\n",
       "      <td>-44</td>\n",
       "      <td>7</td>\n",
       "      <td>67</td>\n",
       "      <td>4.58</td>\n",
       "      <td>0.55</td>\n",
       "      <td>2018-02-06T15:14:34.171153Z</td>\n",
       "      <td>240AC4F01E0286DC</td>\n",
       "    </tr>\n",
       "    <tr>\n",
       "      <th>3</th>\n",
       "      <td>240AC4F01E025FF4</td>\n",
       "      <td>2018-02-06T15:14:34.308128Z</td>\n",
       "      <td>-44</td>\n",
       "      <td>7</td>\n",
       "      <td>67</td>\n",
       "      <td>1.50</td>\n",
       "      <td>9.05</td>\n",
       "      <td>2018-02-06T15:14:34.171153Z</td>\n",
       "      <td>240AC4F01E0286DC</td>\n",
       "    </tr>\n",
       "    <tr>\n",
       "      <th>4</th>\n",
       "      <td>240AC4F01E023E3C</td>\n",
       "      <td>2018-02-06T15:14:34.311056Z</td>\n",
       "      <td>-45</td>\n",
       "      <td>7</td>\n",
       "      <td>67</td>\n",
       "      <td>1.50</td>\n",
       "      <td>9.05</td>\n",
       "      <td>2018-02-06T15:14:34.171153Z</td>\n",
       "      <td>240AC4F01E0286DC</td>\n",
       "    </tr>\n",
       "    <tr>\n",
       "      <th>5</th>\n",
       "      <td>240AC4F01E023C54</td>\n",
       "      <td>2018-02-06T15:14:34.312091Z</td>\n",
       "      <td>-40</td>\n",
       "      <td>7</td>\n",
       "      <td>67</td>\n",
       "      <td>1.50</td>\n",
       "      <td>9.05</td>\n",
       "      <td>2018-02-06T15:14:34.595861Z</td>\n",
       "      <td>240AC4F01E023C54</td>\n",
       "    </tr>\n",
       "  </tbody>\n",
       "</table>\n",
       "</div>"
      ],
      "text/plain": [
       "          gateway_id            pkt_date_and_time  pkt_rssi  pkt_snr  \\\n",
       "id                                                                     \n",
       "1   240AC4F01E023E3C  2018-02-06T15:14:31.677078Z       -51        6   \n",
       "2   240AC4F01E0286DC  2018-02-06T15:14:31.673436Z       -44        7   \n",
       "3   240AC4F01E025FF4  2018-02-06T15:14:34.308128Z       -44        7   \n",
       "4   240AC4F01E023E3C  2018-02-06T15:14:34.311056Z       -45        7   \n",
       "5   240AC4F01E023C54  2018-02-06T15:14:34.312091Z       -40        7   \n",
       "\n",
       "    pkt_size  pkt_longitude  pkt_latitude                 pkt_rec_time  \\\n",
       "id                                                                       \n",
       "1         67           4.58          0.55  2018-02-06T15:14:31.536828Z   \n",
       "2         67           4.58          0.55  2018-02-06T15:14:34.171153Z   \n",
       "3         67           1.50          9.05  2018-02-06T15:14:34.171153Z   \n",
       "4         67           1.50          9.05  2018-02-06T15:14:34.171153Z   \n",
       "5         67           1.50          9.05  2018-02-06T15:14:34.595861Z   \n",
       "\n",
       "        pkt_rec_from  \n",
       "id                    \n",
       "1   240AC4F01E025FF4  \n",
       "2   240AC4F01E0286DC  \n",
       "3   240AC4F01E0286DC  \n",
       "4   240AC4F01E0286DC  \n",
       "5   240AC4F01E023C54  "
      ]
     },
     "execution_count": 7,
     "metadata": {},
     "output_type": "execute_result"
    }
   ],
   "source": [
    "data.head()"
   ]
  },
  {
   "cell_type": "code",
   "execution_count": 8,
   "metadata": {},
   "outputs": [
    {
     "data": {
      "text/plain": [
       "{'240AC4F01E023C54',\n",
       " '240AC4F01E023E3C',\n",
       " '240AC4F01E025FF4',\n",
       " '240AC4F01E0286DC',\n",
       " nan}"
      ]
     },
     "execution_count": 8,
     "metadata": {},
     "output_type": "execute_result"
    }
   ],
   "source": [
    "set(data.gateway_id.values) | set(data.pkt_rec_from.values)"
   ]
  },
  {
   "cell_type": "markdown",
   "metadata": {},
   "source": [
    "###### Encoding of gateway_id values"
   ]
  },
  {
   "cell_type": "code",
   "execution_count": 9,
   "metadata": {},
   "outputs": [],
   "source": [
    "gateways = set(data.gateway_id.values) | set(data.pkt_rec_from.values)\n",
    "# gateways = {\n",
    "#     \"240AC4F01E025FF4\": 0,\n",
    "#     \"240AC4F01E0286DC\": 1,\n",
    "#     \"240AC4F01E023E3C\": 2,\n",
    "#     \"240AC4F01E023C54\": 3\n",
    "# }\n",
    "num_gateways = len(gateways)"
   ]
  },
  {
   "cell_type": "code",
   "execution_count": 10,
   "metadata": {},
   "outputs": [],
   "source": [
    "# Label Encoder\n",
    "le = LabelEncoder()\n",
    "le.fit(list(gateways));"
   ]
  },
  {
   "cell_type": "code",
   "execution_count": 11,
   "metadata": {},
   "outputs": [],
   "source": [
    "def convert_gtiD_to_num(column):\n",
    "    encoded_col = pd.Series()\n",
    "    for entry in column:\n",
    "        en = le.transform([str(entry)])[0]\n",
    "        encoded_col = encoded_col.append(pd.Series(en), ignore_index=True)\n",
    "    return encoded_col"
   ]
  },
  {
   "cell_type": "code",
   "execution_count": 12,
   "metadata": {
    "scrolled": true
   },
   "outputs": [],
   "source": [
    "data = data.assign(gateway_id=convert_gtiD_to_num(data.gateway_id))\n",
    "data = data.assign(pkt_rec_from=convert_gtiD_to_num(data.pkt_rec_from))"
   ]
  },
  {
   "cell_type": "code",
   "execution_count": 13,
   "metadata": {},
   "outputs": [
    {
     "data": {
      "text/html": [
       "<div>\n",
       "<style scoped>\n",
       "    .dataframe tbody tr th:only-of-type {\n",
       "        vertical-align: middle;\n",
       "    }\n",
       "\n",
       "    .dataframe tbody tr th {\n",
       "        vertical-align: top;\n",
       "    }\n",
       "\n",
       "    .dataframe thead th {\n",
       "        text-align: right;\n",
       "    }\n",
       "</style>\n",
       "<table border=\"1\" class=\"dataframe\">\n",
       "  <thead>\n",
       "    <tr style=\"text-align: right;\">\n",
       "      <th></th>\n",
       "      <th>gateway_id</th>\n",
       "      <th>pkt_date_and_time</th>\n",
       "      <th>pkt_rssi</th>\n",
       "      <th>pkt_snr</th>\n",
       "      <th>pkt_size</th>\n",
       "      <th>pkt_longitude</th>\n",
       "      <th>pkt_latitude</th>\n",
       "      <th>pkt_rec_time</th>\n",
       "      <th>pkt_rec_from</th>\n",
       "    </tr>\n",
       "    <tr>\n",
       "      <th>id</th>\n",
       "      <th></th>\n",
       "      <th></th>\n",
       "      <th></th>\n",
       "      <th></th>\n",
       "      <th></th>\n",
       "      <th></th>\n",
       "      <th></th>\n",
       "      <th></th>\n",
       "      <th></th>\n",
       "    </tr>\n",
       "  </thead>\n",
       "  <tbody>\n",
       "    <tr>\n",
       "      <th>1</th>\n",
       "      <td>3.0</td>\n",
       "      <td>2018-02-06T15:14:31.677078Z</td>\n",
       "      <td>-51</td>\n",
       "      <td>6</td>\n",
       "      <td>67</td>\n",
       "      <td>4.58</td>\n",
       "      <td>0.55</td>\n",
       "      <td>2018-02-06T15:14:31.536828Z</td>\n",
       "      <td>3.0</td>\n",
       "    </tr>\n",
       "    <tr>\n",
       "      <th>2</th>\n",
       "      <td>2.0</td>\n",
       "      <td>2018-02-06T15:14:31.673436Z</td>\n",
       "      <td>-44</td>\n",
       "      <td>7</td>\n",
       "      <td>67</td>\n",
       "      <td>4.58</td>\n",
       "      <td>0.55</td>\n",
       "      <td>2018-02-06T15:14:34.171153Z</td>\n",
       "      <td>3.0</td>\n",
       "    </tr>\n",
       "    <tr>\n",
       "      <th>3</th>\n",
       "      <td>1.0</td>\n",
       "      <td>2018-02-06T15:14:34.308128Z</td>\n",
       "      <td>-44</td>\n",
       "      <td>7</td>\n",
       "      <td>67</td>\n",
       "      <td>1.50</td>\n",
       "      <td>9.05</td>\n",
       "      <td>2018-02-06T15:14:34.171153Z</td>\n",
       "      <td>3.0</td>\n",
       "    </tr>\n",
       "    <tr>\n",
       "      <th>4</th>\n",
       "      <td>0.0</td>\n",
       "      <td>2018-02-06T15:14:34.311056Z</td>\n",
       "      <td>-45</td>\n",
       "      <td>7</td>\n",
       "      <td>67</td>\n",
       "      <td>1.50</td>\n",
       "      <td>9.05</td>\n",
       "      <td>2018-02-06T15:14:34.171153Z</td>\n",
       "      <td>0.0</td>\n",
       "    </tr>\n",
       "    <tr>\n",
       "      <th>5</th>\n",
       "      <td>3.0</td>\n",
       "      <td>2018-02-06T15:14:34.312091Z</td>\n",
       "      <td>-40</td>\n",
       "      <td>7</td>\n",
       "      <td>67</td>\n",
       "      <td>1.50</td>\n",
       "      <td>9.05</td>\n",
       "      <td>2018-02-06T15:14:34.595861Z</td>\n",
       "      <td>0.0</td>\n",
       "    </tr>\n",
       "  </tbody>\n",
       "</table>\n",
       "</div>"
      ],
      "text/plain": [
       "    gateway_id            pkt_date_and_time  pkt_rssi  pkt_snr  pkt_size  \\\n",
       "id                                                                         \n",
       "1          3.0  2018-02-06T15:14:31.677078Z       -51        6        67   \n",
       "2          2.0  2018-02-06T15:14:31.673436Z       -44        7        67   \n",
       "3          1.0  2018-02-06T15:14:34.308128Z       -44        7        67   \n",
       "4          0.0  2018-02-06T15:14:34.311056Z       -45        7        67   \n",
       "5          3.0  2018-02-06T15:14:34.312091Z       -40        7        67   \n",
       "\n",
       "    pkt_longitude  pkt_latitude                 pkt_rec_time  pkt_rec_from  \n",
       "id                                                                          \n",
       "1            4.58          0.55  2018-02-06T15:14:31.536828Z           3.0  \n",
       "2            4.58          0.55  2018-02-06T15:14:34.171153Z           3.0  \n",
       "3            1.50          9.05  2018-02-06T15:14:34.171153Z           3.0  \n",
       "4            1.50          9.05  2018-02-06T15:14:34.171153Z           0.0  \n",
       "5            1.50          9.05  2018-02-06T15:14:34.595861Z           0.0  "
      ]
     },
     "execution_count": 13,
     "metadata": {},
     "output_type": "execute_result"
    }
   ],
   "source": [
    "data.head()"
   ]
  },
  {
   "cell_type": "code",
   "execution_count": 14,
   "metadata": {},
   "outputs": [],
   "source": [
    "def one_hot_encoder(gateway):\n",
    "    \"\"\"\n",
    "        gateway: str\n",
    "        returns one-hot encoded array\n",
    "    \"\"\"\n",
    "    entry = [0] * num_gateways\n",
    "    entry[gateways[gateway]] = 1\n",
    "    return entry"
   ]
  },
  {
   "cell_type": "markdown",
   "metadata": {},
   "source": [
    "##### Create training + test set"
   ]
  },
  {
   "cell_type": "code",
   "execution_count": 15,
   "metadata": {},
   "outputs": [],
   "source": [
    "# X = np.array(data[['gateway_id', 'pkt_rssi', 'pkt_snr', 'pkt_data']])\n",
    "X = np.array(data[['gateway_id', 'pkt_rssi', 'pkt_snr', 'pkt_rec_from', 'pkt_longitude', 'pkt_latitude']])\n",
    "y = np.array(list(zip(data.pkt_longitude, data.pkt_latitude)))"
   ]
  },
  {
   "cell_type": "code",
   "execution_count": 16,
   "metadata": {},
   "outputs": [],
   "source": [
    "train_ratio = 0.8\n",
    "train_len = int(train_ratio * len(X))"
   ]
  },
  {
   "cell_type": "code",
   "execution_count": 17,
   "metadata": {},
   "outputs": [],
   "source": [
    "X_train, X_test = X[:train_len], X[train_len + 1:]\n",
    "y_train, y_test = y[:train_len], y[train_len + 1:]\n",
    "assert len(X_train) == len(y_train)\n",
    "assert len(X_test) == len(y_test)"
   ]
  },
  {
   "cell_type": "markdown",
   "metadata": {},
   "source": [
    "### Model"
   ]
  },
  {
   "cell_type": "code",
   "execution_count": 18,
   "metadata": {},
   "outputs": [],
   "source": [
    "input_dim = X.shape[1]"
   ]
  },
  {
   "cell_type": "code",
   "execution_count": 19,
   "metadata": {},
   "outputs": [
    {
     "name": "stdout",
     "output_type": "stream",
     "text": [
      "WARNING:tensorflow:From /Users/Ayush/condaenv/anaconda/lib/python3.6/site-packages/tensorflow/python/keras/_impl/keras/backend.py:1557: calling reduce_mean (from tensorflow.python.ops.math_ops) with keep_dims is deprecated and will be removed in a future version.\n",
      "Instructions for updating:\n",
      "keep_dims is deprecated, use keepdims instead\n"
     ]
    }
   ],
   "source": [
    "model = Sequential()\n",
    "model.add(Dense(input_dim, input_dim=input_dim))\n",
    "model.add(Dense(10, activation='relu'))\n",
    "# model.add(Dense, activation='relu'))\n",
    "model.add(Dense(10, activation='relu'))\n",
    "model.add(Dense(2))\n",
    "model.compile(loss='mean_squared_error', optimizer='sgd', metrics=['accuracy'])"
   ]
  },
  {
   "cell_type": "code",
   "execution_count": 20,
   "metadata": {},
   "outputs": [
    {
     "data": {
      "text/plain": [
       "[{'class_name': 'Dense',\n",
       "  'config': {'activation': 'linear',\n",
       "   'activity_regularizer': None,\n",
       "   'batch_input_shape': (None, 6),\n",
       "   'bias_constraint': None,\n",
       "   'bias_initializer': {'class_name': 'Zeros', 'config': {'dtype': 'float32'}},\n",
       "   'bias_regularizer': None,\n",
       "   'dtype': 'float32',\n",
       "   'kernel_constraint': None,\n",
       "   'kernel_initializer': {'class_name': 'VarianceScaling',\n",
       "    'config': {'distribution': 'uniform',\n",
       "     'dtype': 'float32',\n",
       "     'mode': 'fan_avg',\n",
       "     'scale': 1.0,\n",
       "     'seed': None}},\n",
       "   'kernel_regularizer': None,\n",
       "   'name': 'dense_1',\n",
       "   'trainable': True,\n",
       "   'units': 6,\n",
       "   'use_bias': True}},\n",
       " {'class_name': 'Dense',\n",
       "  'config': {'activation': 'relu',\n",
       "   'activity_regularizer': None,\n",
       "   'bias_constraint': None,\n",
       "   'bias_initializer': {'class_name': 'Zeros', 'config': {'dtype': 'float32'}},\n",
       "   'bias_regularizer': None,\n",
       "   'dtype': 'float32',\n",
       "   'kernel_constraint': None,\n",
       "   'kernel_initializer': {'class_name': 'VarianceScaling',\n",
       "    'config': {'distribution': 'uniform',\n",
       "     'dtype': 'float32',\n",
       "     'mode': 'fan_avg',\n",
       "     'scale': 1.0,\n",
       "     'seed': None}},\n",
       "   'kernel_regularizer': None,\n",
       "   'name': 'dense_2',\n",
       "   'trainable': True,\n",
       "   'units': 10,\n",
       "   'use_bias': True}},\n",
       " {'class_name': 'Dense',\n",
       "  'config': {'activation': 'relu',\n",
       "   'activity_regularizer': None,\n",
       "   'bias_constraint': None,\n",
       "   'bias_initializer': {'class_name': 'Zeros', 'config': {'dtype': 'float32'}},\n",
       "   'bias_regularizer': None,\n",
       "   'dtype': 'float32',\n",
       "   'kernel_constraint': None,\n",
       "   'kernel_initializer': {'class_name': 'VarianceScaling',\n",
       "    'config': {'distribution': 'uniform',\n",
       "     'dtype': 'float32',\n",
       "     'mode': 'fan_avg',\n",
       "     'scale': 1.0,\n",
       "     'seed': None}},\n",
       "   'kernel_regularizer': None,\n",
       "   'name': 'dense_3',\n",
       "   'trainable': True,\n",
       "   'units': 10,\n",
       "   'use_bias': True}},\n",
       " {'class_name': 'Dense',\n",
       "  'config': {'activation': 'linear',\n",
       "   'activity_regularizer': None,\n",
       "   'bias_constraint': None,\n",
       "   'bias_initializer': {'class_name': 'Zeros', 'config': {'dtype': 'float32'}},\n",
       "   'bias_regularizer': None,\n",
       "   'dtype': 'float32',\n",
       "   'kernel_constraint': None,\n",
       "   'kernel_initializer': {'class_name': 'VarianceScaling',\n",
       "    'config': {'distribution': 'uniform',\n",
       "     'dtype': 'float32',\n",
       "     'mode': 'fan_avg',\n",
       "     'scale': 1.0,\n",
       "     'seed': None}},\n",
       "   'kernel_regularizer': None,\n",
       "   'name': 'dense_4',\n",
       "   'trainable': True,\n",
       "   'units': 2,\n",
       "   'use_bias': True}}]"
      ]
     },
     "execution_count": 20,
     "metadata": {},
     "output_type": "execute_result"
    }
   ],
   "source": [
    "model.get_config()"
   ]
  },
  {
   "cell_type": "code",
   "execution_count": 21,
   "metadata": {
    "scrolled": true
   },
   "outputs": [
    {
     "name": "stdout",
     "output_type": "stream",
     "text": [
      "Epoch 1/5\n",
      "2602/2602 [==============================]2602/2602 [==============================] - 4s 1ms/step - loss: 10261560105.9914 - acc: 0.7498\n",
      "\n",
      "Epoch 2/5\n",
      "2602/2602 [==============================]2602/2602 [==============================] - 3s 1ms/step - loss: 10.7512 - acc: 0.7494\n",
      "\n",
      "Epoch 3/5\n",
      "2602/2602 [==============================]2602/2602 [==============================] - 3s 1ms/step - loss: 10.7379 - acc: 0.7494\n",
      "\n",
      "Epoch 4/5\n",
      "2602/2602 [==============================]2602/2602 [==============================] - 3s 1ms/step - loss: 10.7536 - acc: 0.7494\n",
      "\n",
      "Epoch 5/5\n",
      "2602/2602 [==============================]2602/2602 [==============================] - 3s 1ms/step - loss: 10.7154 - acc: 0.7494\n",
      "\n"
     ]
    }
   ],
   "source": [
    "model.fit(X_train, y_train, epochs=5,  batch_size=1);"
   ]
  },
  {
   "cell_type": "code",
   "execution_count": 22,
   "metadata": {
    "scrolled": false
   },
   "outputs": [
    {
     "name": "stdout",
     "output_type": "stream",
     "text": [
      "650/650 [==============================]650/650 [==============================] - 0s 75us/step\n",
      "\n"
     ]
    }
   ],
   "source": [
    "loss_and_metrics = model.evaluate(X_test, y_test);"
   ]
  },
  {
   "cell_type": "code",
   "execution_count": 23,
   "metadata": {
    "scrolled": false
   },
   "outputs": [],
   "source": [
    "prediction = model.predict(X_test)"
   ]
  },
  {
   "cell_type": "code",
   "execution_count": 24,
   "metadata": {},
   "outputs": [
    {
     "data": {
      "text/plain": [
       "[nan, 0.7507692304024329]"
      ]
     },
     "execution_count": 24,
     "metadata": {},
     "output_type": "execute_result"
    }
   ],
   "source": [
    "loss_and_metrics"
   ]
  },
  {
   "cell_type": "code",
   "execution_count": 25,
   "metadata": {},
   "outputs": [
    {
     "data": {
      "text/plain": [
       "array([[2.8380716, 5.1412044],\n",
       "       [2.8380716, 5.1412044],\n",
       "       [2.8380716, 5.1412044],\n",
       "       ...,\n",
       "       [2.8380716, 5.1412044],\n",
       "       [2.8380716, 5.1412044],\n",
       "       [      nan,       nan]], dtype=float32)"
      ]
     },
     "execution_count": 25,
     "metadata": {},
     "output_type": "execute_result"
    }
   ],
   "source": [
    "prediction"
   ]
  },
  {
   "cell_type": "code",
   "execution_count": 26,
   "metadata": {},
   "outputs": [
    {
     "data": {
      "text/plain": [
       "array([[1.5 , 9.05],\n",
       "       [4.58, 9.05],\n",
       "       [4.58, 9.05],\n",
       "       ...,\n",
       "       [0.33, 0.66],\n",
       "       [4.58, 0.55],\n",
       "       [4.58, 0.55]])"
      ]
     },
     "execution_count": 26,
     "metadata": {},
     "output_type": "execute_result"
    }
   ],
   "source": [
    "y_test"
   ]
  }
 ],
 "metadata": {
  "kernelspec": {
   "display_name": "Python 3",
   "language": "python",
   "name": "python3"
  },
  "language_info": {
   "codemirror_mode": {
    "name": "ipython",
    "version": 3
   },
   "file_extension": ".py",
   "mimetype": "text/x-python",
   "name": "python",
   "nbconvert_exporter": "python",
   "pygments_lexer": "ipython3",
   "version": "3.6.4"
  }
 },
 "nbformat": 4,
 "nbformat_minor": 2
}
